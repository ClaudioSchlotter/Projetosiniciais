{
 "cells": [
  {
   "cell_type": "code",
   "execution_count": 1,
   "id": "ed2b0c32",
   "metadata": {},
   "outputs": [],
   "source": [
    "lista1 = [1,2,3]"
   ]
  },
  {
   "cell_type": "code",
   "execution_count": 2,
   "id": "3560363d",
   "metadata": {},
   "outputs": [
    {
     "data": {
      "text/plain": [
       "list"
      ]
     },
     "execution_count": 2,
     "metadata": {},
     "output_type": "execute_result"
    }
   ],
   "source": [
    "type(lista1)"
   ]
  },
  {
   "cell_type": "code",
   "execution_count": 3,
   "id": "0e2296d6",
   "metadata": {},
   "outputs": [],
   "source": [
    "lista2 = [[1,2,3],[4,5,6],[7,8,9]]"
   ]
  },
  {
   "cell_type": "code",
   "execution_count": 4,
   "id": "6d5683e3",
   "metadata": {},
   "outputs": [
    {
     "data": {
      "text/plain": [
       "list"
      ]
     },
     "execution_count": 4,
     "metadata": {},
     "output_type": "execute_result"
    }
   ],
   "source": [
    "type(lista2)"
   ]
  },
  {
   "cell_type": "code",
   "execution_count": 15,
   "id": "1b48d16e",
   "metadata": {},
   "outputs": [
    {
     "data": {
      "text/plain": [
       "1"
      ]
     },
     "execution_count": 15,
     "metadata": {},
     "output_type": "execute_result"
    }
   ],
   "source": [
    "lista1[0]"
   ]
  },
  {
   "cell_type": "code",
   "execution_count": 14,
   "id": "95d78e13",
   "metadata": {},
   "outputs": [
    {
     "data": {
      "text/plain": [
       "[1, 2, 3]"
      ]
     },
     "execution_count": 14,
     "metadata": {},
     "output_type": "execute_result"
    }
   ],
   "source": [
    "lista2[0]"
   ]
  },
  {
   "cell_type": "code",
   "execution_count": 18,
   "id": "76ece3e2",
   "metadata": {},
   "outputs": [
    {
     "data": {
      "text/plain": [
       "9"
      ]
     },
     "execution_count": 18,
     "metadata": {},
     "output_type": "execute_result"
    }
   ],
   "source": [
    "lista2[2][2]"
   ]
  },
  {
   "cell_type": "code",
   "execution_count": 19,
   "id": "67cd9094",
   "metadata": {},
   "outputs": [],
   "source": [
    "select = lista2[1]"
   ]
  },
  {
   "cell_type": "code",
   "execution_count": 20,
   "id": "ecb00566",
   "metadata": {},
   "outputs": [
    {
     "name": "stdout",
     "output_type": "stream",
     "text": [
      "[4, 5, 6]\n"
     ]
    }
   ],
   "source": [
    "print(select)"
   ]
  },
  {
   "cell_type": "code",
   "execution_count": 21,
   "id": "5baa295e",
   "metadata": {},
   "outputs": [
    {
     "data": {
      "text/plain": [
       "list"
      ]
     },
     "execution_count": 21,
     "metadata": {},
     "output_type": "execute_result"
    }
   ],
   "source": [
    "type(select)"
   ]
  },
  {
   "cell_type": "code",
   "execution_count": 22,
   "id": "f993d18b",
   "metadata": {},
   "outputs": [],
   "source": [
    "select = lista2[0][1]"
   ]
  },
  {
   "cell_type": "code",
   "execution_count": 23,
   "id": "f1a22316",
   "metadata": {},
   "outputs": [
    {
     "name": "stdout",
     "output_type": "stream",
     "text": [
      "2\n"
     ]
    }
   ],
   "source": [
    "print(select)"
   ]
  },
  {
   "cell_type": "code",
   "execution_count": 24,
   "id": "0597345d",
   "metadata": {},
   "outputs": [],
   "source": [
    "select2 = lista1[0]"
   ]
  },
  {
   "cell_type": "code",
   "execution_count": 25,
   "id": "c017771f",
   "metadata": {},
   "outputs": [
    {
     "data": {
      "text/plain": [
       "3"
      ]
     },
     "execution_count": 25,
     "metadata": {},
     "output_type": "execute_result"
    }
   ],
   "source": [
    "select2 + select"
   ]
  },
  {
   "cell_type": "code",
   "execution_count": 26,
   "id": "c6155a67",
   "metadata": {},
   "outputs": [
    {
     "data": {
      "text/plain": [
       "4"
      ]
     },
     "execution_count": 26,
     "metadata": {},
     "output_type": "execute_result"
    }
   ],
   "source": [
    "select**2"
   ]
  },
  {
   "cell_type": "code",
   "execution_count": 38,
   "id": "eaaacf51",
   "metadata": {
    "scrolled": false
   },
   "outputs": [
    {
     "name": "stdout",
     "output_type": "stream",
     "text": [
      "A cidade escolhida é: Rio de janeiro\n"
     ]
    }
   ],
   "source": [
    "#funções dentro de listas\n",
    "import random\n",
    "cidades = ['São paulo','Rio de janeiro','Belo horizonte','Porto alegre']\n",
    "escolhida = random.choice(cidades)\n",
    "print('A cidade escolhida é:', escolhida)"
   ]
  },
  {
   "cell_type": "code",
   "execution_count": 54,
   "id": "8fa1bd3b",
   "metadata": {},
   "outputs": [],
   "source": [
    "a = [1,2,3]"
   ]
  },
  {
   "cell_type": "code",
   "execution_count": 55,
   "id": "c84be3fd",
   "metadata": {},
   "outputs": [],
   "source": [
    "#utilizado para adicionar itens no objeto\n",
    "#sendo utilizado a variavel.append(o que quiser adicionar no fim da lista)\n",
    "a.append(15)"
   ]
  },
  {
   "cell_type": "code",
   "execution_count": 56,
   "id": "21e4c9e0",
   "metadata": {},
   "outputs": [
    {
     "name": "stdout",
     "output_type": "stream",
     "text": [
      "[1, 2, 3, 15]\n"
     ]
    }
   ],
   "source": [
    "print(a)"
   ]
  },
  {
   "cell_type": "code",
   "execution_count": 57,
   "id": "2b36c528",
   "metadata": {},
   "outputs": [],
   "source": [
    "b = [4,5,6]"
   ]
  },
  {
   "cell_type": "code",
   "execution_count": 59,
   "id": "0cdabbc1",
   "metadata": {},
   "outputs": [
    {
     "name": "stdout",
     "output_type": "stream",
     "text": [
      "[1, 2, 3, 15, 4, 5, 6, 4]\n",
      "[1, 2, 3, 15, 4, 5, 6, 4, 5]\n",
      "[1, 2, 3, 15, 4, 5, 6, 4, 5, 6]\n"
     ]
    }
   ],
   "source": [
    "#utilizando item for para adicionar uma lista dentro da outra\n",
    "for item in b:\n",
    "    a.append(item)\n",
    "    print(a)"
   ]
  },
  {
   "cell_type": "code",
   "execution_count": null,
   "id": "7ece2f89",
   "metadata": {},
   "outputs": [],
   "source": []
  }
 ],
 "metadata": {
  "kernelspec": {
   "display_name": "Python 3 (ipykernel)",
   "language": "python",
   "name": "python3"
  },
  "language_info": {
   "codemirror_mode": {
    "name": "ipython",
    "version": 3
   },
   "file_extension": ".py",
   "mimetype": "text/x-python",
   "name": "python",
   "nbconvert_exporter": "python",
   "pygments_lexer": "ipython3",
   "version": "3.9.13"
  }
 },
 "nbformat": 4,
 "nbformat_minor": 5
}
