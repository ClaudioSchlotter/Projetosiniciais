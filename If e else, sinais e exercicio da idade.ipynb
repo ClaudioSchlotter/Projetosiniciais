{
 "cells": [
  {
   "cell_type": "code",
   "execution_count": 3,
   "id": "88627b7b",
   "metadata": {
    "scrolled": true
   },
   "outputs": [
    {
     "name": "stdout",
     "output_type": "stream",
     "text": [
      "não conheço\n"
     ]
    }
   ],
   "source": [
    "comida = 'a'\n",
    "if comida == 'pizza':\n",
    "    print('possui muitas calorias')\n",
    "elif comida == 'bolo':\n",
    "    print('não é saudavel')\n",
    "else:\n",
    "    print('não conheço')"
   ]
  },
  {
   "cell_type": "code",
   "execution_count": 5,
   "id": "208ba10a",
   "metadata": {},
   "outputs": [
    {
     "name": "stdout",
     "output_type": "stream",
     "text": [
      "não é pizza\n"
     ]
    }
   ],
   "source": [
    "comida = 'a'\n",
    "if comida != 'pizza':\n",
    "    print('não é pizza')\n",
    "else:\n",
    "    print('é pizza')"
   ]
  },
  {
   "cell_type": "code",
   "execution_count": 7,
   "id": "e32675c1",
   "metadata": {},
   "outputs": [],
   "source": [
    "#sinal de igual é ==, sinal de diferente é !=, >(maior), <(menor), >=/<=(maior e igual ou menor ou igual)"
   ]
  },
  {
   "cell_type": "code",
   "execution_count": null,
   "id": "f540d4ac",
   "metadata": {},
   "outputs": [],
   "source": [
    "idade = int(input('digite o ano que você nasceu?'))\n",
    "idade = 2023 - idade\n",
    "if idade >= 18:\n",
    "    print('você é adulto')\n",
    "elif idade > 100:\n",
    "    print('idade não é valida')\n",
    "elif idade < 0:\n",
    "    print('idade não é valida')\n",
    "else:\n",
    "    print('você é menor de idade')\n",
    "\n"
   ]
  },
  {
   "cell_type": "code",
   "execution_count": null,
   "id": "f29c1821",
   "metadata": {},
   "outputs": [],
   "source": []
  }
 ],
 "metadata": {
  "kernelspec": {
   "display_name": "Python 3 (ipykernel)",
   "language": "python",
   "name": "python3"
  },
  "language_info": {
   "codemirror_mode": {
    "name": "ipython",
    "version": 3
   },
   "file_extension": ".py",
   "mimetype": "text/x-python",
   "name": "python",
   "nbconvert_exporter": "python",
   "pygments_lexer": "ipython3",
   "version": "3.9.13"
  }
 },
 "nbformat": 4,
 "nbformat_minor": 5
}
