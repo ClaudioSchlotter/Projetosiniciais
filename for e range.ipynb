{
 "cells": [
  {
   "cell_type": "code",
   "execution_count": 19,
   "id": "f9527e4a",
   "metadata": {},
   "outputs": [
    {
     "name": "stdout",
     "output_type": "stream",
     "text": [
      "frase\n",
      "frase\n",
      "frase\n",
      "frase\n",
      "frase\n",
      "frase\n",
      "frase\n",
      "frase\n",
      "frase\n",
      "frase\n",
      "frase\n",
      "frase\n",
      "frase\n",
      "frase\n",
      "frase\n"
     ]
    }
   ],
   "source": [
    "#for é utilizado pra repetir algo e o range é o numero de vezes que vai repetir\n",
    "a = 5\n",
    "b = 10\n",
    "for i in range(b + a):\n",
    "    print('frase')   "
   ]
  },
  {
   "cell_type": "code",
   "execution_count": 29,
   "id": "c55360ad",
   "metadata": {},
   "outputs": [
    {
     "name": "stdout",
     "output_type": "stream",
     "text": [
      "c\n",
      "l\n",
      "a\n",
      "u\n",
      "d\n",
      "i\n",
      "o\n"
     ]
    }
   ],
   "source": [
    "palavra = 'claudio'\n",
    "for asdafsf in palavra:\n",
    "    print(asdafsf)\n",
    "    "
   ]
  },
  {
   "cell_type": "code",
   "execution_count": 32,
   "id": "18d46aeb",
   "metadata": {},
   "outputs": [
    {
     "name": "stdout",
     "output_type": "stream",
     "text": [
      "1\n",
      "22\n",
      "44\n",
      "67\n",
      "89\n"
     ]
    }
   ],
   "source": [
    "#[] utilizado como lista\n",
    "lista =[1,22,44,67,89]\n",
    "for nun in lista:\n",
    "    print(nun)"
   ]
  },
  {
   "cell_type": "code",
   "execution_count": null,
   "id": "2d2632e7",
   "metadata": {},
   "outputs": [],
   "source": [
    "variavel = int(input('Digite algo: ')):\n",
    "print(variavel)"
   ]
  }
 ],
 "metadata": {
  "kernelspec": {
   "display_name": "Python 3 (ipykernel)",
   "language": "python",
   "name": "python3"
  },
  "language_info": {
   "codemirror_mode": {
    "name": "ipython",
    "version": 3
   },
   "file_extension": ".py",
   "mimetype": "text/x-python",
   "name": "python",
   "nbconvert_exporter": "python",
   "pygments_lexer": "ipython3",
   "version": "3.9.13"
  }
 },
 "nbformat": 4,
 "nbformat_minor": 5
}
