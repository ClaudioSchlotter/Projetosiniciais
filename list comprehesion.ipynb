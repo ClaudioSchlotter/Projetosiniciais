{
 "cells": [
  {
   "cell_type": "code",
   "execution_count": 3,
   "id": "2e6571d5",
   "metadata": {},
   "outputs": [],
   "source": [
    "kph = [40, 50, 56, 64, 73, 79, 85, 96, 100, 120]"
   ]
  },
  {
   "cell_type": "code",
   "execution_count": 10,
   "id": "010a1975",
   "metadata": {
    "scrolled": true
   },
   "outputs": [
    {
     "name": "stdout",
     "output_type": "stream",
     "text": [
      "[24.844720496894407, 31.05590062111801, 34.78260869565217, 39.75155279503105, 45.3416149068323, 49.06832298136646, 52.795031055900616, 59.62732919254658, 62.11180124223602, 74.53416149068323]\n"
     ]
    }
   ],
   "source": [
    "mph = []\n",
    "for i in kph:\n",
    "    mph.append(i/1.61)\n",
    "print(mph)"
   ]
  },
  {
   "cell_type": "code",
   "execution_count": 12,
   "id": "0d91df77",
   "metadata": {},
   "outputs": [
    {
     "name": "stdout",
     "output_type": "stream",
     "text": [
      "[24.844720496894407, 31.05590062111801, 34.78260869565217, 39.75155279503105, 45.3416149068323, 49.06832298136646, 52.795031055900616, 59.62732919254658, 62.11180124223602, 74.53416149068323]\n"
     ]
    }
   ],
   "source": [
    "mph2 = list(map(lambda x: x/1.61, kph))\n",
    "print(mph2)"
   ]
  },
  {
   "cell_type": "code",
   "execution_count": 31,
   "id": "5a29f5ba",
   "metadata": {},
   "outputs": [
    {
     "name": "stdout",
     "output_type": "stream",
     "text": [
      "[24.844720496894407, 31.05590062111801, 34.78260869565217, 39.75155279503105, 45.3416149068323, 49.06832298136646, 52.795031055900616, 59.62732919254658, 62.11180124223602, 74.53416149068323]\n"
     ]
    }
   ],
   "source": [
    "mph3 = [x/1.61 for x in kph]\n",
    "print(mph3)"
   ]
  },
  {
   "cell_type": "code",
   "execution_count": 34,
   "id": "348fb06d",
   "metadata": {},
   "outputs": [],
   "source": [
    "caracteres = [i for i in 'Claudio']"
   ]
  },
  {
   "cell_type": "code",
   "execution_count": 35,
   "id": "bdc6ebd9",
   "metadata": {},
   "outputs": [
    {
     "name": "stdout",
     "output_type": "stream",
     "text": [
      "['C', 'l', 'a', 'u', 'd', 'i', 'o']\n"
     ]
    }
   ],
   "source": [
    "print(caracteres)"
   ]
  },
  {
   "cell_type": "code",
   "execution_count": 37,
   "id": "85589bef",
   "metadata": {},
   "outputs": [
    {
     "name": "stdout",
     "output_type": "stream",
     "text": [
      "['n', 'o', 'v', 'a']\n"
     ]
    }
   ],
   "source": [
    "print(nova)"
   ]
  },
  {
   "cell_type": "code",
   "execution_count": null,
   "id": "4ff24474",
   "metadata": {},
   "outputs": [],
   "source": []
  }
 ],
 "metadata": {
  "kernelspec": {
   "display_name": "Python 3 (ipykernel)",
   "language": "python",
   "name": "python3"
  },
  "language_info": {
   "codemirror_mode": {
    "name": "ipython",
    "version": 3
   },
   "file_extension": ".py",
   "mimetype": "text/x-python",
   "name": "python",
   "nbconvert_exporter": "python",
   "pygments_lexer": "ipython3",
   "version": "3.9.13"
  }
 },
 "nbformat": 4,
 "nbformat_minor": 5
}
