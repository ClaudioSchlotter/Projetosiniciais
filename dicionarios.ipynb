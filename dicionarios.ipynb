{
 "cells": [
  {
   "cell_type": "code",
   "execution_count": 15,
   "id": "28a0e5c9",
   "metadata": {},
   "outputs": [],
   "source": [
    "dicionario = {'Curso':'Python para ML',\n",
    "              'produtor':'Claudio',\n",
    "              'preço':'gratis'}\n"
   ]
  },
  {
   "cell_type": "code",
   "execution_count": 17,
   "id": "3cf4e96a",
   "metadata": {},
   "outputs": [
    {
     "data": {
      "text/plain": [
       "'Python para ML'"
      ]
     },
     "execution_count": 17,
     "metadata": {},
     "output_type": "execute_result"
    }
   ],
   "source": [
    "dicionario['Curso']"
   ]
  },
  {
   "cell_type": "code",
   "execution_count": 18,
   "id": "b31a7481",
   "metadata": {},
   "outputs": [],
   "source": [
    "a = dicionario['Curso']"
   ]
  },
  {
   "cell_type": "code",
   "execution_count": 19,
   "id": "2efb588a",
   "metadata": {},
   "outputs": [
    {
     "name": "stdout",
     "output_type": "stream",
     "text": [
      "Python para ML\n"
     ]
    }
   ],
   "source": [
    "print(a)"
   ]
  },
  {
   "cell_type": "code",
   "execution_count": 23,
   "id": "4386e8a9",
   "metadata": {},
   "outputs": [],
   "source": [
    "dicionario['Curso'] = 'Python para ML'"
   ]
  },
  {
   "cell_type": "code",
   "execution_count": 25,
   "id": "2ef78bed",
   "metadata": {},
   "outputs": [
    {
     "name": "stdout",
     "output_type": "stream",
     "text": [
      "{'Curso': 'Python para ML', 'produtor': 'Claudio', 'preço': 'gratis'}\n"
     ]
    }
   ],
   "source": [
    "print(dicionario)"
   ]
  },
  {
   "cell_type": "code",
   "execution_count": 26,
   "id": "145d8099",
   "metadata": {},
   "outputs": [],
   "source": [
    "#para adicionar novos valores no dicionario basta utiliza variavel['x'] = 'y'\n",
    "dicionario['pré-requisito'] = 'Python-basico'"
   ]
  },
  {
   "cell_type": "code",
   "execution_count": 27,
   "id": "0b6a9b90",
   "metadata": {},
   "outputs": [
    {
     "name": "stdout",
     "output_type": "stream",
     "text": [
      "{'Curso': 'Python para ML', 'produtor': 'Claudio', 'preço': 'gratis', 'pré-requisito': 'Python-basico'}\n"
     ]
    }
   ],
   "source": [
    "print(dicionario)"
   ]
  },
  {
   "cell_type": "code",
   "execution_count": 28,
   "id": "2b2e381c",
   "metadata": {},
   "outputs": [
    {
     "data": {
      "text/plain": [
       "dict_keys(['Curso', 'produtor', 'preço', 'pré-requisito'])"
      ]
     },
     "execution_count": 28,
     "metadata": {},
     "output_type": "execute_result"
    }
   ],
   "source": [
    "#utilizando keys o python te informa as palavras chaves do dicionario\n",
    "dicionario.keys()"
   ]
  },
  {
   "cell_type": "code",
   "execution_count": 29,
   "id": "b8790458",
   "metadata": {},
   "outputs": [
    {
     "data": {
      "text/plain": [
       "dict_values(['Python para ML', 'Claudio', 'gratis', 'Python-basico'])"
      ]
     },
     "execution_count": 29,
     "metadata": {},
     "output_type": "execute_result"
    }
   ],
   "source": [
    "#utilizando values o python te informa o resultado\n",
    "dicionario.values()"
   ]
  },
  {
   "cell_type": "code",
   "execution_count": null,
   "id": "38268761",
   "metadata": {},
   "outputs": [],
   "source": [
    "#outros comandos .values = mostrar palavra chaves e resultados\n",
    "#.clear() = limpar o dicionario"
   ]
  }
 ],
 "metadata": {
  "kernelspec": {
   "display_name": "Python 3 (ipykernel)",
   "language": "python",
   "name": "python3"
  },
  "language_info": {
   "codemirror_mode": {
    "name": "ipython",
    "version": 3
   },
   "file_extension": ".py",
   "mimetype": "text/x-python",
   "name": "python",
   "nbconvert_exporter": "python",
   "pygments_lexer": "ipython3",
   "version": "3.9.13"
  }
 },
 "nbformat": 4,
 "nbformat_minor": 5
}
