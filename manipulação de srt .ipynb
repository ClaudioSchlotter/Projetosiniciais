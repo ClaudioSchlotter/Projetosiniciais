{
 "cells": [
  {
   "cell_type": "code",
   "execution_count": 23,
   "id": "d1445317",
   "metadata": {},
   "outputs": [],
   "source": [
    "def somaquadrados(a, b):\n",
    "    somaq = a**2 + b**2\n",
    "    return somaq"
   ]
  },
  {
   "cell_type": "code",
   "execution_count": 25,
   "id": "ddd1c38f",
   "metadata": {},
   "outputs": [
    {
     "data": {
      "text/plain": [
       "13"
      ]
     },
     "execution_count": 25,
     "metadata": {},
     "output_type": "execute_result"
    }
   ],
   "source": [
    " somaquadrados(2,3)"
   ]
  },
  {
   "cell_type": "code",
   "execution_count": 27,
   "id": "249b9a12",
   "metadata": {},
   "outputs": [],
   "source": [
    "somaquadrados2 = lambda a, b: a**2 + b**2"
   ]
  },
  {
   "cell_type": "code",
   "execution_count": 55,
   "id": "b23defbf",
   "metadata": {},
   "outputs": [
    {
     "data": {
      "text/plain": [
       "13"
      ]
     },
     "execution_count": 55,
     "metadata": {},
     "output_type": "execute_result"
    }
   ],
   "source": [
    "somaquadrados2(2,3)"
   ]
  },
  {
   "cell_type": "code",
   "execution_count": 67,
   "id": "b5ce30f5",
   "metadata": {},
   "outputs": [],
   "source": [
    "def divisão(a):\n",
    "    div = a/2\n",
    "    return div"
   ]
  },
  {
   "cell_type": "code",
   "execution_count": 69,
   "id": "c1694aca",
   "metadata": {},
   "outputs": [
    {
     "data": {
      "text/plain": [
       "5.0"
      ]
     },
     "execution_count": 69,
     "metadata": {},
     "output_type": "execute_result"
    }
   ],
   "source": [
    "divisão(10)"
   ]
  },
  {
   "cell_type": "code",
   "execution_count": null,
   "id": "d75c5731",
   "metadata": {},
   "outputs": [],
   "source": []
  }
 ],
 "metadata": {
  "kernelspec": {
   "display_name": "Python 3 (ipykernel)",
   "language": "python",
   "name": "python3"
  },
  "language_info": {
   "codemirror_mode": {
    "name": "ipython",
    "version": 3
   },
   "file_extension": ".py",
   "mimetype": "text/x-python",
   "name": "python",
   "nbconvert_exporter": "python",
   "pygments_lexer": "ipython3",
   "version": "3.9.13"
  }
 },
 "nbformat": 4,
 "nbformat_minor": 5
}
