{
 "cells": [
  {
   "cell_type": "code",
   "execution_count": null,
   "id": "a8ea9e4f",
   "metadata": {},
   "outputs": [],
   "source": [
    "#para criar uma função para ajudar a encontrar algo\n",
    "def temletrau():\n",
    "    frase = input('Digite uma frase: ')\n",
    "    if 'u' in frase:\n",
    "        print('tem letra u')\n",
    "    else:\n",
    "        print('não tem letra u')"
   ]
  },
  {
   "cell_type": "code",
   "execution_count": null,
   "id": "8da91f68",
   "metadata": {},
   "outputs": [],
   "source": [
    "#para criar uma função para ajudar a encontrar algo\n",
    "def temletrau():\n",
    "    frase = input('Digite uma frase: ')\n",
    "    if 'u' in frase:\n",
    "        print('tem letra u')\n",
    "    else:\n",
    "        print('não tem letra u')"
   ]
  },
  {
   "cell_type": "code",
   "execution_count": 1,
   "id": "7556a2c3",
   "metadata": {},
   "outputs": [],
   "source": [
    "#criando uma função para contas \n",
    "def somadosquadrados(a,b):\n",
    "    somaq = a**2 + b**2\n",
    "    return somaq"
   ]
  },
  {
   "cell_type": "code",
   "execution_count": 4,
   "id": "c3231e55",
   "metadata": {},
   "outputs": [
    {
     "data": {
      "text/plain": [
       "13"
      ]
     },
     "execution_count": 4,
     "metadata": {},
     "output_type": "execute_result"
    }
   ],
   "source": [
    "somadosquadrados(2,3)"
   ]
  },
  {
   "cell_type": "code",
   "execution_count": null,
   "id": "75f9313f",
   "metadata": {},
   "outputs": [],
   "source": []
  }
 ],
 "metadata": {
  "kernelspec": {
   "display_name": "Python 3 (ipykernel)",
   "language": "python",
   "name": "python3"
  },
  "language_info": {
   "codemirror_mode": {
    "name": "ipython",
    "version": 3
   },
   "file_extension": ".py",
   "mimetype": "text/x-python",
   "name": "python",
   "nbconvert_exporter": "python",
   "pygments_lexer": "ipython3",
   "version": "3.9.13"
  }
 },
 "nbformat": 4,
 "nbformat_minor": 5
}
