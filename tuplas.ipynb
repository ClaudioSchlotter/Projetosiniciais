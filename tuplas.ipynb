{
 "cells": [
  {
   "cell_type": "code",
   "execution_count": 4,
   "id": "4a891cc3",
   "metadata": {},
   "outputs": [
    {
     "name": "stdout",
     "output_type": "stream",
     "text": [
      "[2.0]\n",
      "[2.0, 4.0]\n",
      "[2.0, 4.0, 5.0]\n",
      "[2.0, 4.0, 5.0, 10.0]\n"
     ]
    }
   ],
   "source": [
    "x = [2,4,5,10]\n",
    "nova = []\n",
    "for item in x:\n",
    "    nova.append(float(item))\n",
    "    print(nova)\n",
    "    \n",
    "    \n",
    "    "
   ]
  },
  {
   "cell_type": "code",
   "execution_count": 13,
   "id": "e1b0586f",
   "metadata": {},
   "outputs": [
    {
     "name": "stdout",
     "output_type": "stream",
     "text": [
      "[20, 4, 7]\n"
     ]
    }
   ],
   "source": [
    "#tuplas são listas que não podem ser alteradas\n",
    "lista = [2,4,7]\n",
    "lista[0] = 20\n",
    "print(lista)\n"
   ]
  },
  {
   "cell_type": "code",
   "execution_count": 18,
   "id": "861d6ed8",
   "metadata": {},
   "outputs": [
    {
     "data": {
      "text/plain": [
       "6"
      ]
     },
     "execution_count": 18,
     "metadata": {},
     "output_type": "execute_result"
    }
   ],
   "source": [
    "tupla = (6, 8, 4)\n",
    "tupla[0]"
   ]
  },
  {
   "cell_type": "code",
   "execution_count": 19,
   "id": "0e7c3609",
   "metadata": {},
   "outputs": [],
   "source": [
    "del lista[0]"
   ]
  },
  {
   "cell_type": "code",
   "execution_count": 20,
   "id": "b8dc1625",
   "metadata": {},
   "outputs": [
    {
     "name": "stdout",
     "output_type": "stream",
     "text": [
      "[4, 7]\n"
     ]
    }
   ],
   "source": [
    "print(lista)"
   ]
  },
  {
   "cell_type": "code",
   "execution_count": 24,
   "id": "504c83b5",
   "metadata": {},
   "outputs": [],
   "source": [
    "novatupla = tuple(lista)"
   ]
  },
  {
   "cell_type": "code",
   "execution_count": 25,
   "id": "0c7421c5",
   "metadata": {},
   "outputs": [
    {
     "name": "stdout",
     "output_type": "stream",
     "text": [
      "(4, 7)\n"
     ]
    }
   ],
   "source": [
    "print(novatupla)"
   ]
  },
  {
   "cell_type": "code",
   "execution_count": 27,
   "id": "7581e380",
   "metadata": {},
   "outputs": [
    {
     "data": {
      "text/plain": [
       "tuple"
      ]
     },
     "execution_count": 27,
     "metadata": {},
     "output_type": "execute_result"
    }
   ],
   "source": [
    "type(novatupla)"
   ]
  },
  {
   "cell_type": "code",
   "execution_count": 28,
   "id": "d931aab1",
   "metadata": {},
   "outputs": [],
   "source": [
    "num = (3,)"
   ]
  },
  {
   "cell_type": "code",
   "execution_count": 29,
   "id": "23632e0c",
   "metadata": {},
   "outputs": [
    {
     "data": {
      "text/plain": [
       "tuple"
      ]
     },
     "execution_count": 29,
     "metadata": {},
     "output_type": "execute_result"
    }
   ],
   "source": [
    "type(num)"
   ]
  },
  {
   "cell_type": "code",
   "execution_count": null,
   "id": "b82d3db7",
   "metadata": {},
   "outputs": [],
   "source": [
    "#para criar uma tupla de um só numero colocar , dps do numero ex: Num = (3,)"
   ]
  }
 ],
 "metadata": {
  "kernelspec": {
   "display_name": "Python 3 (ipykernel)",
   "language": "python",
   "name": "python3"
  },
  "language_info": {
   "codemirror_mode": {
    "name": "ipython",
    "version": 3
   },
   "file_extension": ".py",
   "mimetype": "text/x-python",
   "name": "python",
   "nbconvert_exporter": "python",
   "pygments_lexer": "ipython3",
   "version": "3.9.13"
  }
 },
 "nbformat": 4,
 "nbformat_minor": 5
}
