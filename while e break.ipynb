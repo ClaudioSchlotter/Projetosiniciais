{
 "cells": [
  {
   "cell_type": "code",
   "execution_count": 4,
   "id": "a83d4119",
   "metadata": {
    "scrolled": true
   },
   "outputs": [
    {
     "name": "stdout",
     "output_type": "stream",
     "text": [
      "1\n",
      "2\n",
      "3\n",
      "4\n",
      "5\n",
      "6\n",
      "agora deu\n"
     ]
    }
   ],
   "source": [
    "#while= enquanto break = parar\n",
    "import time\n",
    "contador = 0\n",
    "while contador < 10:\n",
    "    print(contador + 1)\n",
    "    contador = contador + 1\n",
    "    if contador == 6:\n",
    "     break\n",
    "    time.sleep(1)\n",
    "print('agora deu')\n"
   ]
  },
  {
   "cell_type": "code",
   "execution_count": null,
   "id": "bd44ec75",
   "metadata": {},
   "outputs": [],
   "source": [
    "numero = int(input('Informe um numero:' ))\n",
    "fatorial = numero\n",
    "contador = 1\n",
    "while (numero - contador) > 1:\n",
    "    fatorial = fatorial*(numero - contador)\n",
    "    contador += 1\n",
    "print('{0}! = {1}'.format(numero,fatorial))\n",
    "    \n",
    "\n"
   ]
  }
 ],
 "metadata": {
  "kernelspec": {
   "display_name": "Python 3 (ipykernel)",
   "language": "python",
   "name": "python3"
  },
  "language_info": {
   "codemirror_mode": {
    "name": "ipython",
    "version": 3
   },
   "file_extension": ".py",
   "mimetype": "text/x-python",
   "name": "python",
   "nbconvert_exporter": "python",
   "pygments_lexer": "ipython3",
   "version": "3.9.13"
  }
 },
 "nbformat": 4,
 "nbformat_minor": 5
}
