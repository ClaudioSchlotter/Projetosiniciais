{
 "cells": [
  {
   "cell_type": "code",
   "execution_count": 24,
   "id": "d4154695",
   "metadata": {},
   "outputs": [],
   "source": [
    "fruta = 'laranja'"
   ]
  },
  {
   "cell_type": "code",
   "execution_count": 25,
   "id": "7413e6a9",
   "metadata": {},
   "outputs": [
    {
     "data": {
      "text/plain": [
       "str"
      ]
     },
     "execution_count": 25,
     "metadata": {},
     "output_type": "execute_result"
    }
   ],
   "source": [
    "type(fruta)"
   ]
  },
  {
   "cell_type": "code",
   "execution_count": 27,
   "id": "995d570a",
   "metadata": {},
   "outputs": [
    {
     "name": "stdout",
     "output_type": "stream",
     "text": [
      "suco de laranja é meu favorito\n"
     ]
    }
   ],
   "source": [
    "print('suco de %s é meu favorito'%fruta) \n",
    "#%s = str %d = int %f = float"
   ]
  },
  {
   "cell_type": "code",
   "execution_count": 29,
   "id": "37a8bacf",
   "metadata": {},
   "outputs": [
    {
     "name": "stdout",
     "output_type": "stream",
     "text": [
      "suco de laranja é o meu favorito\n"
     ]
    }
   ],
   "source": [
    "print('suco de {} é o meu favorito'.format(fruta))"
   ]
  },
  {
   "cell_type": "code",
   "execution_count": 31,
   "id": "fb5b3ad2",
   "metadata": {},
   "outputs": [],
   "source": [
    "cor1 = 'azul' \n",
    "cor2 = 'rosa'"
   ]
  },
  {
   "cell_type": "code",
   "execution_count": 36,
   "id": "50b0e528",
   "metadata": {},
   "outputs": [
    {
     "name": "stdout",
     "output_type": "stream",
     "text": [
      " o seu é azul, a flor é rosa e o meu carro é azul\n"
     ]
    }
   ],
   "source": [
    "print(' o seu é {0}, a flor é {1} e o meu carro é {0}'.format(cor1, cor2))\n",
    "#sempre iniciar com 0 no python para definir a ordem de variavel"
   ]
  },
  {
   "cell_type": "code",
   "execution_count": 37,
   "id": "906baf8a",
   "metadata": {},
   "outputs": [
    {
     "name": "stdout",
     "output_type": "stream",
     "text": [
      "5.666666666666667\n"
     ]
    }
   ],
   "source": [
    "conta = 17/3\n",
    "print(conta)"
   ]
  },
  {
   "cell_type": "code",
   "execution_count": 46,
   "id": "b25bc363",
   "metadata": {},
   "outputs": [
    {
     "name": "stdout",
     "output_type": "stream",
     "text": [
      "o resultado da conta é: 5.7 \n"
     ]
    }
   ],
   "source": [
    "print('o resultado da conta é: {:.1f} '.format(conta))\n",
    "#para ficar apenas algumas casas dps da virgula usar o comando :.2f, :.3f."
   ]
  },
  {
   "cell_type": "code",
   "execution_count": null,
   "id": "de627212",
   "metadata": {},
   "outputs": [],
   "source": []
  }
 ],
 "metadata": {
  "kernelspec": {
   "display_name": "Python 3 (ipykernel)",
   "language": "python",
   "name": "python3"
  },
  "language_info": {
   "codemirror_mode": {
    "name": "ipython",
    "version": 3
   },
   "file_extension": ".py",
   "mimetype": "text/x-python",
   "name": "python",
   "nbconvert_exporter": "python",
   "pygments_lexer": "ipython3",
   "version": "3.9.13"
  }
 },
 "nbformat": 4,
 "nbformat_minor": 5
}
