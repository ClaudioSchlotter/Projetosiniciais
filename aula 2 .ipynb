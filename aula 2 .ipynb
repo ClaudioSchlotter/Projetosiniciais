{
 "cells": [
  {
   "cell_type": "code",
   "execution_count": 2,
   "id": "be3d4a7e",
   "metadata": {
    "scrolled": true
   },
   "outputs": [
    {
     "name": "stdout",
     "output_type": "stream",
     "text": [
      "5\n",
      "50\n",
      "4.25\n",
      "8\n"
     ]
    }
   ],
   "source": [
    "print(10-5)\n",
    "print(10*5)\n",
    "print(17/4)\n",
    "print(2**3)\n",
    "#** é elevado\n"
   ]
  },
  {
   "cell_type": "code",
   "execution_count": 3,
   "id": "a3c89db7",
   "metadata": {},
   "outputs": [
    {
     "name": "stdout",
     "output_type": "stream",
     "text": [
      "2\n"
     ]
    }
   ],
   "source": [
    "print(5//2)\n",
    "#// pega somente o numero inteiro da divisão"
   ]
  },
  {
   "cell_type": "code",
   "execution_count": 4,
   "id": "b75801db",
   "metadata": {},
   "outputs": [
    {
     "name": "stdout",
     "output_type": "stream",
     "text": [
      "1\n"
     ]
    }
   ],
   "source": [
    "print(5%2)\n",
    "#% pega apenas o valor após a virgula"
   ]
  },
  {
   "cell_type": "code",
   "execution_count": null,
   "id": "bdbea5ad",
   "metadata": {},
   "outputs": [],
   "source": []
  }
 ],
 "metadata": {
  "kernelspec": {
   "display_name": "Python 3 (ipykernel)",
   "language": "python",
   "name": "python3"
  },
  "language_info": {
   "codemirror_mode": {
    "name": "ipython",
    "version": 3
   },
   "file_extension": ".py",
   "mimetype": "text/x-python",
   "name": "python",
   "nbconvert_exporter": "python",
   "pygments_lexer": "ipython3",
   "version": "3.9.13"
  }
 },
 "nbformat": 4,
 "nbformat_minor": 5
}
